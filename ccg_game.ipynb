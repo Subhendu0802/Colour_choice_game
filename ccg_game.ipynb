{
  "cells": [
    {
      "cell_type": "code",
      "execution_count": null,
      "metadata": {
        "id": "TuBEb4bm2-FC"
      },
      "outputs": [],
      "source": [
        "import random"
      ]
    },
    {
      "cell_type": "code",
      "execution_count": null,
      "metadata": {
        "colab": {
          "base_uri": "https://localhost:8080/"
        },
        "id": "0CF1loud3PLv",
        "outputId": "f5bd0379-2849-4bca-fafe-60415a9745ef"
      },
      "outputs": [],
      "source": [
        "print(\"Rules of the game are given below \"+\"\\nEnter a number from 1 to 5 & match computer choice to user's choice\")\n",
        "comp_score = 0\n",
        "play_score = 0\n",
        "while True:\n",
        "      print(\"Violet=1 \\nOrange=2 \\nGreen=3 \\nBlue=4 \\nBlack=5 \\n take a turn: \" )\n",
        "  #user input\n",
        "  \n",
        "      play_choice = int(input(\"User turn: \"))\n",
        "\n",
        "      while play_choice > 5 and play_choice < 1:\n",
        "         play_choice=int(input(\"Enter a valid choice: \"))\n",
        "      if play_choice == 1:\n",
        "        user_choice_color = 'Violet'\n",
        "      elif  play_choice == 2:\n",
        "        user_choice_color = 'Orange'\n",
        "      elif play_choice == 3:\n",
        "        user_choice_color = 'Green'\n",
        "      elif play_choice == 4:\n",
        "        user_choice_color = 'Blue'\n",
        "      else:\n",
        "        user_choice_color = 'Black'\n",
        "       \n",
        "\n",
        "      #printing user choice\n",
        "      print(\"user color choice: \" +user_choice_color)\n",
        "      print(\"\\n now computer's turn to choose\")\n",
        "      comp_choice = random.randint(1,5)\n",
        "      while comp_choice == play_choice:\n",
        "          comp_choice = random.randint(1,5)\n",
        "\n",
        "      if comp_choice == 1:\n",
        "        comp_choice_color = 'Violet'\n",
        "      elif  comp_choice == 2:\n",
        "        comp_choice_color = 'Orange'\n",
        "      elif comp_choice == 3:\n",
        "        comp_choice_color = 'Green'\n",
        "      elif comp_choice == 4:\n",
        "        comp_choice_color = 'Blue'\n",
        "      else:\n",
        "        comp_choice_color = 'Black'\n",
        "\n",
        "      print(\"Computer color choice is: \"+ comp_choice_color)\n",
        "\n",
        "    #winning condition\n",
        "      if(user_choice_color == comp_choice_color):\n",
        "        play_score += 1\n",
        "        print(\"Score of Player: \" + str(play_score))\n",
        "        print(\"Score of Computer: \" + str(comp_score))\n",
        "      else:\n",
        "        comp_score += 1\n",
        "        print(\"Score of Player: \"+ str(play_score))\n",
        "        print(\"Score of Computer: \" + str(comp_score))\n",
        "      print(\"Wanna play again? (Y/N)\")\n",
        "      ans = input()\n",
        "      if ans == 'n' or ans == 'N':\n",
        "        break\n",
        "      \n",
        "\n",
        "\n",
        "      \n",
        "\n"
      ]
    },
    {
      "cell_type": "markdown",
      "metadata": {
        "id": "TG_49P3QoFak"
      },
      "source": [
        "#Overall Result"
      ]
    },
    {
      "cell_type": "code",
      "execution_count": null,
      "metadata": {
        "colab": {
          "base_uri": "https://localhost:8080/"
        },
        "id": "TQdTC6W2oBay",
        "outputId": "f593de41-a343-48f8-de92-467881b02f2c"
      },
      "outputs": [],
      "source": [
        "if comp_score == play_score:\n",
        "    print(\"Game Tied\")\n",
        "     \n",
        "elif comp_score < play_score:\n",
        "    print(\"Player is Victorious\")\n",
        "    print(\"<== User wins ==>\")\n",
        "    \n",
        "elif comp_score > play_score:\n",
        "    print(\"\\n<== Computer wins ==>\")\n",
        "    print(\"\\nPlayer is Defeated\")\n",
        "    "
      ]
    }
  ],
  "metadata": {
    "colab": {
      "collapsed_sections": [],
      "provenance": []
    },
    "kernelspec": {
      "display_name": "Python 3",
      "name": "python3"
    },
    "language_info": {
      "name": "python"
    }
  },
  "nbformat": 4,
  "nbformat_minor": 0
}
